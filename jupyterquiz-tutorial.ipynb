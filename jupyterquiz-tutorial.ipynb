{
  "cells": [
    {
      "cell_type": "markdown",
      "id": "74461aaf",
      "metadata": {
        "id": "74461aaf"
      },
      "source": [
        "# JupyterQuiz Implementation Guide\n",
        "\n",
        "Interactive quizzes are useful to allow students to check their understanding *inside the notebook they are already using to code*.  In this tutorial, we will show how to create a quiz using the [jupyterquiz](https://github.com/jmshea/jupyterquiz) package and a short list of question dictionaries.\n",
        "\n",
        "This notebook will walk you through making a quiz with Jupyter Quiz.\n",
        "\n",
        "Although we walk you through the question format here, it will likely be more useful long term to use an large language model like ChatGPT to format your questions. \n",
        "We provide an engineered prompt for this use case in a second tutorial.\n",
        "\n"
      ]
    },
    {
      "cell_type": "markdown",
      "id": "57f3c7f8",
      "metadata": {
        "id": "57f3c7f8"
      },
      "source": [
        "## 1 Quick Start\n",
        "\n",
        "To use `JupyterQuiz`, you should first install it.\n",
        "If it's not installed in your environment, you can install it using the command below in your notebook."
      ]
    },
    {
      "cell_type": "code",
      "execution_count": null,
      "id": "37f6f21f",
      "metadata": {
        "colab": {
          "base_uri": "https://localhost:8080/"
        },
        "id": "37f6f21f",
        "outputId": "54f4f5d2-f688-4ed3-95d1-b5936c7216b6"
      },
      "outputs": [],
      "source": [
        "%pip install \"jupyterquiz\""
      ]
    },
    {
      "cell_type": "markdown",
      "id": "gzgberdocpqA",
      "metadata": {
        "id": "gzgberdocpqA"
      },
      "source": [
        "The main function you will be using from JupyterQuiz is called `display_quiz`. We will prepare our questions as lists of Python dictionaries, then use `display_quiz` to show the quizzes."
      ]
    },
    {
      "cell_type": "code",
      "execution_count": null,
      "id": "0ceAQAKKngan",
      "metadata": {
        "id": "0ceAQAKKngan"
      },
      "outputs": [],
      "source": [
        "# to start import display_quiz\n",
        "from jupyterquiz import display_quiz"
      ]
    },
    {
      "cell_type": "markdown",
      "id": "roRDQ-zK-R1j",
      "metadata": {
        "id": "roRDQ-zK-R1j"
      },
      "source": [
        "Below is an example of a question. We make a set of questions using a Python list of dictionaries. Try the demo below, then we will explain this more in depth following."
      ]
    },
    {
      "cell_type": "code",
      "execution_count": null,
      "id": "058e727b",
      "metadata": {
        "id": "058e727b"
      },
      "outputs": [],
      "source": [
        "# Here is a simple demo.\n",
        "# Notice that it is a list with a dictionary inside.\n",
        "# This is a one question quiz.\n",
        "# Quizzes with more than one question have more than one dictionary.\n",
        "quiz_demo = [\n",
        "    {\n",
        "        \"question\": \"2 × 3 = ?\",\n",
        "        \"type\": \"numeric\",\n",
        "        \"answers\": [\n",
        "            {\"type\": \"value\", \"value\": 6, \"correct\": True, \"feedback\": \"✔ Correct\"},\n",
        "            {\"type\": \"default\", \"feedback\": \"Hint: two threes.\"}\n",
        "        ]\n",
        "    }\n",
        "]\n",
        "\n"
      ]
    },
    {
      "cell_type": "code",
      "execution_count": null,
      "id": "RQKOZtg_lz0-",
      "metadata": {
        "colab": {
          "base_uri": "https://localhost:8080/",
          "height": 136
        },
        "id": "RQKOZtg_lz0-",
        "outputId": "22769ee2-7bc1-425e-bfba-9bd93e7eb620"
      },
      "outputs": [],
      "source": [
        "# To see the quiz, we use the display_quiz function\n",
        "# and give it our list of dictionaries.\n",
        "display_quiz(quiz_demo)"
      ]
    },
    {
      "cell_type": "markdown",
      "id": "qztIoBYG-2NO",
      "metadata": {
        "id": "qztIoBYG-2NO"
      },
      "source": [
        "### Explanation of Question List\n",
        "\n",
        "Below, is explained inline the code for the quiz we saw above.\n",
        "\n",
        "```python\n",
        "quiz_demo = [\n",
        "    {\n",
        "        \"question\": \"2 × 3 = ?\", # This is the question text.\n",
        "        \"type\": \"numeric\", # This is the type of question (see below for other types)\n",
        "\n",
        "        # Answers are another list of dictionaries.\n",
        "        \"answers\": [\n",
        "            {\"type\": \"value\", \"value\": 6, \"correct\": True, \"feedback\": \"✔ Correct\"},\n",
        "            {\"type\": \"default\", \"feedback\": \"Hint: two threes.\"}\n",
        "        ]\n",
        "    }\n",
        "]\n",
        "```"
      ]
    },
    {
      "cell_type": "markdown",
      "id": "ae1bb605",
      "metadata": {
        "id": "ae1bb605"
      },
      "source": [
        "## 2 Question Types at a Glance\n",
        "\n",
        "JupyterQuiz offers\n",
        "\n",
        "| Type | Best For | Minimal Required Keys |\n",
        "|---|---|---|\n",
        "| **many_choice** (multiple‑answer) | “Select *all* valid options” checks | `question`, `type`, `answers[]` each with `answer`, `correct` |\n",
        "| **multiple_choice** (single‑answer) | Single correct option; schema as above—one answer marked `correct: true` | same as many_choice |\n",
        "| **numeric** | Calculations where students type a number | `question`, `type`, `answers[]` – optionally `precision` use if you will accept within certain precision |\n",
        "| **string** | Short text answers such as residue codes or element symbols | `question`, `type`, `answers[]` each with `answer`, `correct` |\n"
      ]
    },
    {
      "cell_type": "markdown",
      "id": "9797a8ab",
      "metadata": {
        "id": "9797a8ab"
      },
      "source": [
        "### 2.1 Many / Multiple Choice Example\n",
        "\n",
        "Use when more than one option may be correct.  Mark each answer with `\"correct\": true/false`.  Feedback strings appear instantly after submission.\n"
      ]
    },
    {
      "cell_type": "code",
      "execution_count": null,
      "id": "f53a07e3",
      "metadata": {
        "colab": {
          "base_uri": "https://localhost:8080/",
          "height": 189
        },
        "id": "f53a07e3",
        "outputId": "7245cab6-e2c2-4970-81b4-0007e3b2c5fe"
      },
      "outputs": [],
      "source": [
        "mc_quiz = [\n",
        "    {\n",
        "        \"question\": \"Which are valid units of energy? (select all)\",\n",
        "        \"type\": \"many_choice\",\n",
        "        \"answers\": [\n",
        "            {\"answer\": \"kJ mol⁻¹\", \"correct\": True, \"feedback\": \"Yes—kilojoules per mole.\"},\n",
        "            {\"answer\": \"parsec\", \"correct\": False, \"feedback\": \"That is a distance.\"},\n",
        "            {\"answer\": \"eV\", \"correct\": True, \"feedback\": \"Electron‑volts are energy.\"}\n",
        "        ]\n",
        "    }\n",
        "]\n",
        "\n",
        "display_quiz(mc_quiz)"
      ]
    },
    {
      "cell_type": "markdown",
      "id": "70c665e5",
      "metadata": {
        "id": "70c665e5"
      },
      "source": [
        "### 2.2 Numeric Question Example\n",
        "\n",
        "Set `precision` to the number of **significant digits** you will accept.  Answers can be single values or ranges.\n"
      ]
    },
    {
      "cell_type": "code",
      "execution_count": null,
      "id": "7dbca233",
      "metadata": {
        "colab": {
          "base_uri": "https://localhost:8080/",
          "height": 160
        },
        "id": "7dbca233",
        "outputId": "d981c791-4f50-4f78-a68e-a4f16329c9d8"
      },
      "outputs": [],
      "source": [
        "from jupyterquiz import display_quiz\n",
        "\n",
        "numeric_quiz = [\n",
        "    {\n",
        "        \"question\": \"Estimate the self‑diffusion coefficient of SPC/E water at 300 K (2 sig‑figs):\",\n",
        "        \"type\": \"numeric\",\n",
        "        \"precision\": 2,\n",
        "        \"answers\": [\n",
        "            {\"type\": \"range\", \"range\": [0.20, 0.30], \"correct\": True,\n",
        "             \"feedback\": \"Experimental ≈ 0.23 Å² ps⁻¹.\"},\n",
        "            {\"type\": \"default\", \"feedback\": \"Check slope and units.\"}\n",
        "        ]\n",
        "    }\n",
        "]\n",
        "\n",
        "display_quiz(numeric_quiz)"
      ]
    },
    {
      "cell_type": "markdown",
      "id": "2e23c6a7",
      "metadata": {
        "id": "2e23c6a7"
      },
      "source": [
        "### 2.3 String Question Example\n",
        "\n",
        "Case is ignored by default. Add `\"match_case\": true` if needed.\n"
      ]
    },
    {
      "cell_type": "code",
      "execution_count": null,
      "id": "29bb8e01",
      "metadata": {
        "colab": {
          "base_uri": "https://localhost:8080/",
          "height": 153
        },
        "id": "29bb8e01",
        "outputId": "0bf00ff0-02f6-447f-d3b1-38fdf330db85"
      },
      "outputs": [],
      "source": [
        "from jupyterquiz import display_quiz\n",
        "\n",
        "string_quiz = [\n",
        "    {\n",
        "        \"question\": \"Three‑letter code for glycine:\",\n",
        "        \"type\": \"string\",\n",
        "        \"answers\": [\n",
        "            {\"answer\": \"GLY\", \"correct\": True, \"feedback\": \"✔\"},\n",
        "            {\"answer\": \"Gly\", \"correct\": True, \"feedback\": \"Not case‑sensitive.\"},\n",
        "            {\"type\": \"default\", \"feedback\": \"Remember: all‑caps codes.\"}\n",
        "        ]\n",
        "    }\n",
        "]\n",
        "\n",
        "display_quiz(string_quiz, preserve_responses=True)"
      ]
    },
    {
      "cell_type": "markdown",
      "id": "ca749ecc",
      "metadata": {
        "id": "ca749ecc"
      },
      "source": [
        "## 3 Key Runtime Options\n",
        "\n",
        "Call `display_quiz(quiz, **options)` where `quiz` is a list of dicts, a local JSON path, or a URL/hidden‑span reference.\n",
        "\n",
        "| Option | What It Does | Typical Use Case |\n",
        "|---|---|---|\n",
        "| `num=5` | Show only the first *n* questions | Random subsets from large banks |\n",
        "| `shuffle_questions=True` | Randomise question order | Reduce answer sharing |\n",
        "| `shuffle_answers=False` | Keep answer order fixed | When order matters |\n",
        "| `preserve_responses=True` | Outputs a text record for grading | Simple collection of student answers (not compatible with shuffle) |\n"
      ]
    },
    {
      "cell_type": "markdown",
      "id": "TnQ3HjzGNlR3",
      "metadata": {
        "id": "TnQ3HjzGNlR3"
      },
      "source": [
        "## How to \"Hide\" Questions\n",
        "\n",
        "You likely will not want to embed your quizzes into the notebook.\n",
        "We recommend creating a separate file and importing the questions for display.\n",
        "\n",
        "1. **Create another file called `quizzes.py` (or some name you pick) to store question sets.** Put your Python dictionaries in the file. Make sure they each have variable names.\n",
        "   ```python\n",
        "   # quizzes.py\n",
        "   lj_quiz = [ { ... }, { ... } ]\n",
        "   rdf_quiz = [ { ... } ]\n",
        "   QUIZZES = {\"lj\": lj_quiz, \"rdf\": rdf_quiz}\n",
        "   ```\n",
        "\n",
        "2. **Import and display** from inside teaching notebooks:\n",
        "   ```python\n",
        "   from quizzes import lj_quiz\n",
        "\n",
        "   display_quiz(lj_quiz)\n",
        "   ```\n",
        "\n",
        "If you save your questions in a folder (`lesson/quizzes.py`), then when you import, you should update your imports accordingly (ie)\n",
        "\n",
        "```python\n",
        "from lesson.quizzes import lj_quiz\n",
        "```\n",
        "\n"
      ]
    },
    {
      "cell_type": "code",
      "execution_count": null,
      "id": "eFIr_e8HNyFn",
      "metadata": {
        "id": "eFIr_e8HNyFn"
      },
      "outputs": [],
      "source": []
    }
  ],
  "metadata": {
    "colab": {
      "provenance": []
    },
    "kernelspec": {
      "display_name": "Python 3",
      "name": "python3"
    },
    "language_info": {
      "name": "python"
    }
  },
  "nbformat": 4,
  "nbformat_minor": 5
}
